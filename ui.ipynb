{
 "cells": [
  {
   "cell_type": "markdown",
   "metadata": {},
   "source": [
    "# ChatMyArchive\n",
    "\n",
    "Hao Li, Sacha\n",
    "\n",
    "# Motivation: something that works, can be verified, on private sources,\n",
    "\n",
    " - search for law files, lots of pdf, special structure, wording/phrasing, Claude refusing, GPT doesn't answer\n",
    " - 1. want to be **correct, referenced for very sure (otherwise get sued for publishing fake law/ news or plagarism, I mean, the AI does not get prisoned, users, could)** Good guesses are good, but this is law journalism, serious content, answers **can be validified by people** 2. but people can only read finite content **when we validate it, we don't spend even more time**\n",
    " - run locally, accessibility, privacy, customizable\n",
    "\n",
    "\n",
    "# Yesterday\n",
    "\n",
    " - at least we found Kim Kurdashian\n",
    " - splitter: too short, not useful; too long? not accurate & wasteful\n",
    " - modifying RAG,tweaking, local LLM\n",
    "\n",
    "# Last night:\n",
    " - sort of? HPO of RAG & searching with metadata\n",
    " - How? **Mixtral 8x7b LOCALLY**, **Modified Retriever (retrieve+ expand metadata)**\n",
    "F\n",
    "# Today\n",
    "\n",
    "- \"trying everything to search?\" RAG as tool, tool as RAG, running multiple QA sequences.\n",
    "- Someone has to use it. (pip install?, minimum of UI, import/ export from spreadsheet): idea: researching vs re-searching?\n",
    "\n",
    "# Lessons& perspective\n",
    "\n",
    " - this looks obsolete and artificial? although real application\n",
    " - relevance in topic vs relevance in content\n",
    " - MoEs can be fast! We can(and must) waste power for speed. Can we free ride in the future?\n",
    " - pdf mining (ToC), KeyBert, summarizatin, Hierachical RAG, CoT, ToT (too much to run)\n",
    "\n",
    "# Demo\n"
   ]
  },
  {
   "cell_type": "code",
   "execution_count": 25,
   "metadata": {},
   "outputs": [],
   "source": [
    "!pip3 freeze > requirements.txt "
   ]
  },
  {
   "cell_type": "markdown",
   "metadata": {},
   "source": [
    "## Loading Utils and tweak"
   ]
  },
  {
   "cell_type": "code",
   "execution_count": 1,
   "metadata": {},
   "outputs": [],
   "source": [
    "from utils import *\n",
    "dir_path= 'Archive/reprompts'\n",
    "all_pdf_docs = get_all_docs(dir_path, handler_args={'breaking_pages': False,\n",
    "                                                    'splitter_args': {'threshold' : 32,'chunk_overlap': 8,}})\n",
    "vdb = get_vdb(all_pdf_docs)"
   ]
  },
  {
   "cell_type": "code",
   "execution_count": 2,
   "metadata": {},
   "outputs": [
    {
     "data": {
      "text/plain": [
       "[Document(page_content='KARDASHIAN a/k/a KIMBERLY NOEL \"KIM\" KARDASHIAN, SANDRA BULLOCK, KOURTNEY KARDASHIAN, and', metadata={'page_number': 1, 'source': 'Archive/reprompts/show_temp (4).pdf', 'in_file': 4}),\n",
       " Document(page_content='KIMBERLY NOEL \"KIM\" KARDASHIAN; SANDRA BULLOCK; KOURTNEY KARDASHIAN; JESSE JAMES, DEFENDANTS', metadata={'page_number': 1, 'source': 'Archive/reprompts/show_temp.pdf', 'in_file': 3}),\n",
       " Document(page_content='KARDASHIAN A/K /AKIM BERLY §\\nNOEL “KIM” K ARDASHIAN, SANDR A', metadata={'page_number': 1, 'source': 'Archive/reprompts/show_temp (2).pdf', 'in_file': 3})]"
      ]
     },
     "execution_count": 2,
     "metadata": {},
     "output_type": "execute_result"
    }
   ],
   "source": [
    "from functools import partial\n",
    "\n",
    "search_hard = partial(hard_similarity_search,documents=all_pdf_docs, r=.6, lower = True)\n",
    "search_vdb = partial(lambda query, vdb, k: vdb.similarity_search(query,k=k), k=3,vdb=vdb)\n",
    "\n",
    "search_vdb('kim')"
   ]
  },
  {
   "cell_type": "code",
   "execution_count": 3,
   "metadata": {},
   "outputs": [
    {
     "name": "stderr",
     "output_type": "stream",
     "text": [
      "C:\\Users\\lhrcp\\AppData\\Roaming\\Python\\Python310\\site-packages\\langchain_core\\utils\\utils.py:159: UserWarning: WARNING! max_new_tokens is not default parameter.\n",
      "                max_new_tokens was transferred to model_kwargs.\n",
      "                Please confirm that max_new_tokens is what you intended.\n",
      "  warnings.warn(\n",
      "C:\\Users\\lhrcp\\AppData\\Roaming\\Python\\Python310\\site-packages\\langchain_core\\utils\\utils.py:159: UserWarning: WARNING! do_sample is not default parameter.\n",
      "                do_sample was transferred to model_kwargs.\n",
      "                Please confirm that do_sample is what you intended.\n",
      "  warnings.warn(\n",
      "llama_model_loader: loaded meta data with 25 key-value pairs and 995 tensors from GGUFs\\mixtral-8x7b-v0.1.Q4_K_M.gguf (version GGUF V3 (latest))\n",
      "llama_model_loader: Dumping metadata keys/values. Note: KV overrides do not apply in this output.\n",
      "llama_model_loader: - kv   0:                       general.architecture str              = llama\n",
      "llama_model_loader: - kv   1:                               general.name str              = mistralai_mixtral-8x7b-v0.1\n",
      "llama_model_loader: - kv   2:                       llama.context_length u32              = 32768\n",
      "llama_model_loader: - kv   3:                     llama.embedding_length u32              = 4096\n",
      "llama_model_loader: - kv   4:                          llama.block_count u32              = 32\n",
      "llama_model_loader: - kv   5:                  llama.feed_forward_length u32              = 14336\n",
      "llama_model_loader: - kv   6:                 llama.rope.dimension_count u32              = 128\n",
      "llama_model_loader: - kv   7:                 llama.attention.head_count u32              = 32\n",
      "llama_model_loader: - kv   8:              llama.attention.head_count_kv u32              = 8\n",
      "llama_model_loader: - kv   9:                         llama.expert_count u32              = 8\n",
      "llama_model_loader: - kv  10:                    llama.expert_used_count u32              = 2\n",
      "llama_model_loader: - kv  11:     llama.attention.layer_norm_rms_epsilon f32              = 0.000010\n",
      "llama_model_loader: - kv  12:                       llama.rope.freq_base f32              = 1000000.000000\n",
      "llama_model_loader: - kv  13:                          general.file_type u32              = 15\n",
      "llama_model_loader: - kv  14:                       tokenizer.ggml.model str              = llama\n",
      "llama_model_loader: - kv  15:                      tokenizer.ggml.tokens arr[str,32000]   = [\"<unk>\", \"<s>\", \"</s>\", \"<0x00>\", \"<...\n",
      "llama_model_loader: - kv  16:                      tokenizer.ggml.scores arr[f32,32000]   = [0.000000, 0.000000, 0.000000, 0.0000...\n",
      "llama_model_loader: - kv  17:                  tokenizer.ggml.token_type arr[i32,32000]   = [2, 3, 3, 6, 6, 6, 6, 6, 6, 6, 6, 6, ...\n",
      "llama_model_loader: - kv  18:                tokenizer.ggml.bos_token_id u32              = 1\n",
      "llama_model_loader: - kv  19:                tokenizer.ggml.eos_token_id u32              = 2\n",
      "llama_model_loader: - kv  20:            tokenizer.ggml.unknown_token_id u32              = 0\n",
      "llama_model_loader: - kv  21:            tokenizer.ggml.padding_token_id u32              = 0\n",
      "llama_model_loader: - kv  22:               tokenizer.ggml.add_bos_token bool             = true\n",
      "llama_model_loader: - kv  23:               tokenizer.ggml.add_eos_token bool             = false\n",
      "llama_model_loader: - kv  24:               general.quantization_version u32              = 2\n",
      "llama_model_loader: - type  f32:   65 tensors\n",
      "llama_model_loader: - type  f16:   32 tensors\n",
      "llama_model_loader: - type q8_0:   64 tensors\n",
      "llama_model_loader: - type q4_K:  833 tensors\n",
      "llama_model_loader: - type q6_K:    1 tensors\n",
      "llm_load_vocab: special tokens definition check successful ( 259/32000 ).\n",
      "llm_load_print_meta: format           = GGUF V3 (latest)\n",
      "llm_load_print_meta: arch             = llama\n",
      "llm_load_print_meta: vocab type       = SPM\n",
      "llm_load_print_meta: n_vocab          = 32000\n",
      "llm_load_print_meta: n_merges         = 0\n",
      "llm_load_print_meta: n_ctx_train      = 32768\n",
      "llm_load_print_meta: n_embd           = 4096\n",
      "llm_load_print_meta: n_head           = 32\n",
      "llm_load_print_meta: n_head_kv        = 8\n",
      "llm_load_print_meta: n_layer          = 32\n",
      "llm_load_print_meta: n_rot            = 128\n",
      "llm_load_print_meta: n_embd_head_k    = 128\n",
      "llm_load_print_meta: n_embd_head_v    = 128\n",
      "llm_load_print_meta: n_gqa            = 4\n",
      "llm_load_print_meta: n_embd_k_gqa     = 1024\n",
      "llm_load_print_meta: n_embd_v_gqa     = 1024\n",
      "llm_load_print_meta: f_norm_eps       = 0.0e+00\n",
      "llm_load_print_meta: f_norm_rms_eps   = 1.0e-05\n",
      "llm_load_print_meta: f_clamp_kqv      = 0.0e+00\n",
      "llm_load_print_meta: f_max_alibi_bias = 0.0e+00\n",
      "llm_load_print_meta: f_logit_scale    = 0.0e+00\n",
      "llm_load_print_meta: n_ff             = 14336\n",
      "llm_load_print_meta: n_expert         = 8\n",
      "llm_load_print_meta: n_expert_used    = 2\n",
      "llm_load_print_meta: causal attn      = 1\n",
      "llm_load_print_meta: pooling type     = 0\n",
      "llm_load_print_meta: rope type        = 0\n",
      "llm_load_print_meta: rope scaling     = linear\n",
      "llm_load_print_meta: freq_base_train  = 1000000.0\n",
      "llm_load_print_meta: freq_scale_train = 1\n",
      "llm_load_print_meta: n_yarn_orig_ctx  = 32768\n",
      "llm_load_print_meta: rope_finetuned   = unknown\n",
      "llm_load_print_meta: ssm_d_conv       = 0\n",
      "llm_load_print_meta: ssm_d_inner      = 0\n",
      "llm_load_print_meta: ssm_d_state      = 0\n",
      "llm_load_print_meta: ssm_dt_rank      = 0\n",
      "llm_load_print_meta: model type       = 7B\n",
      "llm_load_print_meta: model ftype      = Q4_K - Medium\n",
      "llm_load_print_meta: model params     = 46.70 B\n",
      "llm_load_print_meta: model size       = 24.62 GiB (4.53 BPW) \n",
      "llm_load_print_meta: general.name     = mistralai_mixtral-8x7b-v0.1\n",
      "llm_load_print_meta: BOS token        = 1 '<s>'\n",
      "llm_load_print_meta: EOS token        = 2 '</s>'\n",
      "llm_load_print_meta: UNK token        = 0 '<unk>'\n",
      "llm_load_print_meta: PAD token        = 0 '<unk>'\n",
      "llm_load_print_meta: LF token         = 13 '<0x0A>'\n",
      "llm_load_tensors: ggml ctx size =    0.48 MiB\n",
      "llm_load_tensors:        CPU buffer size = 25215.87 MiB\n",
      "....................................................................................................\n",
      "llama_new_context_with_model: n_ctx      = 512\n",
      "llama_new_context_with_model: n_batch    = 8\n",
      "llama_new_context_with_model: n_ubatch   = 8\n",
      "llama_new_context_with_model: freq_base  = 10000.0\n",
      "llama_new_context_with_model: freq_scale = 1\n",
      "llama_kv_cache_init:        CPU KV buffer size =    64.00 MiB\n",
      "llama_new_context_with_model: KV self size  =   64.00 MiB, K (f16):   32.00 MiB, V (f16):   32.00 MiB\n",
      "llama_new_context_with_model:        CPU  output buffer size =     0.12 MiB\n",
      "llama_new_context_with_model:        CPU compute buffer size =     1.80 MiB\n",
      "llama_new_context_with_model: graph nodes  = 1638\n",
      "llama_new_context_with_model: graph splits = 1\n",
      "AVX = 1 | AVX_VNNI = 0 | AVX2 = 1 | AVX512 = 1 | AVX512_VBMI = 0 | AVX512_VNNI = 0 | FMA = 1 | NEON = 0 | ARM_FMA = 0 | F16C = 1 | FP16_VA = 0 | WASM_SIMD = 0 | BLAS = 0 | SSE3 = 1 | SSSE3 = 0 | VSX = 0 | MATMUL_INT8 = 0 | \n",
      "Model metadata: {'general.name': 'mistralai_mixtral-8x7b-v0.1', 'general.architecture': 'llama', 'llama.context_length': '32768', 'llama.rope.dimension_count': '128', 'llama.embedding_length': '4096', 'llama.block_count': '32', 'llama.feed_forward_length': '14336', 'llama.attention.head_count': '32', 'tokenizer.ggml.eos_token_id': '2', 'general.file_type': '15', 'llama.attention.head_count_kv': '8', 'llama.expert_count': '8', 'llama.expert_used_count': '2', 'llama.attention.layer_norm_rms_epsilon': '0.000010', 'llama.rope.freq_base': '1000000.000000', 'tokenizer.ggml.model': 'llama', 'general.quantization_version': '2', 'tokenizer.ggml.bos_token_id': '1', 'tokenizer.ggml.unknown_token_id': '0', 'tokenizer.ggml.padding_token_id': '0', 'tokenizer.ggml.add_bos_token': 'true', 'tokenizer.ggml.add_eos_token': 'false'}\n",
      "Using fallback chat format: None\n"
     ]
    }
   ],
   "source": [
    "from local_light_llm import llm"
   ]
  },
  {
   "cell_type": "code",
   "execution_count": null,
   "metadata": {},
   "outputs": [],
   "source": []
  },
  {
   "cell_type": "code",
   "execution_count": 12,
   "metadata": {},
   "outputs": [],
   "source": [
    "from langchain.chains import RetrievalQA\n",
    "\n",
    "qa_chain = RetrievalQA.from_chain_type(llm= llm, \n",
    "                                  chain_type=\"stuff\", \n",
    "                                  retriever=vdb.as_retriever(search_kwargs={\"k\": 3}), \n",
    "                                  return_source_documents=True,\n",
    "                                  verbose = False)\n",
    "\n",
    "answer_RAG = qa_chain\n",
    "\n",
    "\n",
    "\n",
    "\n",
    "from advanced_solvers import *\n",
    "search_tool_func = partial(\n",
    "        search_metadata_util2,\n",
    "        docs=all_pdf_docs,\n",
    "        search_func=vdb.similarity_search,\n",
    "        # search_args={'k': 6},\n",
    "        n_args= {'n':64, 'overlap_length':32, 'key':'in_file'},\n",
    "    )\n",
    "search_tool = Tool(\n",
    "    name='case search',\n",
    "    func=search_tool_func,\n",
    "    description=\"\"\"\n",
    "    Search for the lawsuit case.\n",
    "    \"\"\"\n",
    ")\n",
    "agent_executor = initialize_agent([search_tool], llm, \n",
    "        agent=AgentType.ZERO_SHOT_REACT_DESCRIPTION, verbose=True,\n",
    "        handle_parsing_errors=True,\n",
    "        # memory = memory, \n",
    "        )\n",
    "\n",
    "answer_agent = lambda query: agent_executor({'input': query})\n",
    "# print(agent_executor.invoke({'input': 'what is Kim accused of'}))"
   ]
  },
  {
   "cell_type": "code",
   "execution_count": 20,
   "metadata": {},
   "outputs": [],
   "source": [
    "# Define the search and answer functions for each backend\n",
    "search_functions = {\n",
    "    \"N_gram\": search_hard,\n",
    "    \"VDB\": search_vdb,\n",
    "    # Add more backends and their corresponding search functions\n",
    "}\n",
    "\n",
    "answer_functions = {\n",
    "    \"RAG\": answer_RAG,\n",
    "    \"Search-neighboring_agent\": answer_agent,\n",
    "    # Add more backends and their corresponding answer functions\n",
    "}"
   ]
  },
  {
   "cell_type": "code",
   "execution_count": null,
   "metadata": {},
   "outputs": [
    {
     "data": {
      "application/vnd.jupyter.widget-view+json": {
       "model_id": "0320f17ad2de46f9ae8a499fdf7fb492",
       "version_major": 2,
       "version_minor": 0
      },
      "text/plain": [
       "Text(value='', description='Query:')"
      ]
     },
     "metadata": {},
     "output_type": "display_data"
    },
    {
     "data": {
      "application/vnd.jupyter.widget-view+json": {
       "model_id": "861402330273455d8d340a91d3c7cac4",
       "version_major": 2,
       "version_minor": 0
      },
      "text/plain": [
       "Dropdown(description='Search Backend:', options=('N_gram', 'VDB'), value='N_gram')"
      ]
     },
     "metadata": {},
     "output_type": "display_data"
    },
    {
     "data": {
      "application/vnd.jupyter.widget-view+json": {
       "model_id": "adb08876b2e34abf8a0d2a043d40c4a6",
       "version_major": 2,
       "version_minor": 0
      },
      "text/plain": [
       "Dropdown(description='Answer Backend:', options=('RAG', 'Search-neighboring_agent'), value='RAG')"
      ]
     },
     "metadata": {},
     "output_type": "display_data"
    },
    {
     "data": {
      "application/vnd.jupyter.widget-view+json": {
       "model_id": "f40eca12ee124a4dbe347a55599bf990",
       "version_major": 2,
       "version_minor": 0
      },
      "text/plain": [
       "Button(description='Search', style=ButtonStyle())"
      ]
     },
     "metadata": {},
     "output_type": "display_data"
    },
    {
     "data": {
      "application/vnd.jupyter.widget-view+json": {
       "model_id": "7e70e15a14214117895f981afff77ea6",
       "version_major": 2,
       "version_minor": 0
      },
      "text/plain": [
       "Button(description='Answer', style=ButtonStyle())"
      ]
     },
     "metadata": {},
     "output_type": "display_data"
    },
    {
     "name": "stderr",
     "output_type": "stream",
     "text": [
      "Llama.generate: prefix-match hit\n",
      "\n",
      "llama_print_timings:        load time =    4434.88 ms\n",
      "llama_print_timings:      sample time =       9.98 ms /    32 runs   (    0.31 ms per token,  3206.09 tokens per second)\n",
      "llama_print_timings: prompt eval time =   16166.37 ms /    67 tokens (  241.29 ms per token,     4.14 tokens per second)\n",
      "llama_print_timings:        eval time =    8738.25 ms /    31 runs   (  281.88 ms per token,     3.55 tokens per second)\n",
      "llama_print_timings:       total time =   25017.92 ms /    98 tokens\n"
     ]
    },
    {
     "name": "stdout",
     "output_type": "stream",
     "text": [
      "Answer:\n",
      "{'result': ' The Plaintiff is the person who brings an action against another party. In other words, the Plaintiff is the one who files the lawsuit.', 'source_documents': [Document(page_content='Plaintiff alleges that Defenda nts, who are public figures, have', metadata={'page_number': 1, 'source': 'Archive/reprompts/031141038500.pdf', 'in_file': 10}), Document(page_content='lawsuit, in which the plaintiff, apparently believing federal court is the', metadata={'page_number': 1, 'source': 'Archive/reprompts/show_temp (3).pdf', 'in_file': 21}), Document(page_content='am a plaintiff or petitioner in this case and declare that', metadata={'page_number': 1, 'source': 'Archive/reprompts/show_temp (1).pdf', 'in_file': 8})]}\n",
      "Answer generated. Results saved.\n"
     ]
    },
    {
     "name": "stderr",
     "output_type": "stream",
     "text": [
      "Llama.generate: prefix-match hit\n",
      "\n",
      "llama_print_timings:        load time =    4434.88 ms\n",
      "llama_print_timings:      sample time =       1.90 ms /     6 runs   (    0.32 ms per token,  3162.89 tokens per second)\n",
      "llama_print_timings: prompt eval time =   19720.26 ms /    83 tokens (  237.59 ms per token,     4.21 tokens per second)\n",
      "llama_print_timings:        eval time =    1592.59 ms /     5 runs   (  318.52 ms per token,     3.14 tokens per second)\n",
      "llama_print_timings:       total time =   21348.81 ms /    88 tokens\n"
     ]
    },
    {
     "name": "stdout",
     "output_type": "stream",
     "text": [
      "Answer:\n",
      "{'result': ' Kim Kardashian', 'source_documents': [Document(page_content='United States District Judge Case', metadata={'page_number': 1, 'source': 'Archive/reprompts/031141038524.pdf', 'in_file': 9}), Document(page_content='GINO ROMANO, Plaintiff, -vs- Case No. A-12-CA-535-SS KIM KARDASHIAN a/k/a KIMBERLY', metadata={'page_number': 1, 'source': 'Archive/reprompts/show_temp (4).pdf', 'in_file': 3}), Document(page_content='due to a fraud on the Court perpetrated by the plaintiff,', metadata={'page_number': 1, 'source': 'Archive/reprompts/show_temp (3).pdf', 'in_file': 26})]}\n",
      "Answer generated. Results saved.\n"
     ]
    },
    {
     "name": "stderr",
     "output_type": "stream",
     "text": [
      "Llama.generate: prefix-match hit\n",
      "\n",
      "llama_print_timings:        load time =    4434.88 ms\n",
      "llama_print_timings:      sample time =       1.62 ms /     6 runs   (    0.27 ms per token,  3710.58 tokens per second)\n",
      "llama_print_timings: prompt eval time =       0.00 ms /     1 tokens (    0.00 ms per token,      inf tokens per second)\n",
      "llama_print_timings:        eval time =    1850.12 ms /     6 runs   (  308.35 ms per token,     3.24 tokens per second)\n",
      "llama_print_timings:       total time =    1867.09 ms /     7 tokens\n"
     ]
    },
    {
     "name": "stdout",
     "output_type": "stream",
     "text": [
      "Answer:\n",
      "{'result': ' Kim Kardashian', 'source_documents': [Document(page_content='United States District Judge Case', metadata={'page_number': 1, 'source': 'Archive/reprompts/031141038524.pdf', 'in_file': 9}), Document(page_content='GINO ROMANO, Plaintiff, -vs- Case No. A-12-CA-535-SS KIM KARDASHIAN a/k/a KIMBERLY', metadata={'page_number': 1, 'source': 'Archive/reprompts/show_temp (4).pdf', 'in_file': 3}), Document(page_content='due to a fraud on the Court perpetrated by the plaintiff,', metadata={'page_number': 1, 'source': 'Archive/reprompts/show_temp (3).pdf', 'in_file': 26})]}\n",
      "Answer generated. Results saved.\n"
     ]
    }
   ],
   "source": [
    "import ipywidgets as widgets\n",
    "from IPython.display import display\n",
    "import pandas as pd\n",
    "import pickle\n",
    "import string\n",
    "\n",
    "save_dir = \"history/\"\n",
    "def convert_punctuations(text, n=50):\n",
    "    # Create a translation table to map punctuations to underscores\n",
    "    punct_table = str.maketrans(string.punctuation, '_' * len(string.punctuation))\n",
    "    # Convert punctuations to underscores and take the first n letters\n",
    "    converted_text = text.translate(punct_table)[:n]\n",
    "    return converted_text\n",
    "\n",
    "def on_search_button_clicked(b):\n",
    "    query = query_input.value\n",
    "    save_filename = convert_punctuations(query)\n",
    "    selected_search_backend = search_backend_dropdown.value\n",
    "    search_func = search_functions[selected_search_backend]\n",
    "    searched_docs = search_func(query)\n",
    "    # Convert searched documents to pandas DataFrame and save as CSV\n",
    "    df = documents_to_dataframe(searched_docs)\n",
    "    df.to_csv(save_dir+f\"{save_filename}.csv\", index=False)\n",
    "    print(df)\n",
    "    # Save all objects using a serializer (pickle)\n",
    "    with open(save_dir+f\"{save_filename}.pkl\", \"wb\") as file:\n",
    "        pickle.dump(searched_docs, file)\n",
    "    print(\"Search completed. Results saved.\")\n",
    "\n",
    "def on_answer_button_clicked(b):\n",
    "    query = query_input.value\n",
    "    save_filename = convert_punctuations(query)\n",
    "    selected_search_backend = search_backend_dropdown.value\n",
    "    selected_answer_backend = answer_backend_dropdown.value\n",
    "    search_func = search_functions[selected_search_backend]\n",
    "    answer_func = answer_functions[selected_answer_backend]\n",
    "    searched_docs = search_func(query)\n",
    "    result = answer_func(query, searched_docs)\n",
    "    # Print the result in Jupyter Notebook\n",
    "    print(\"Answer:\")\n",
    "    print(result)\n",
    "    # Save all printed content to a text file\n",
    "    with open(save_dir+f\"{save_filename}.txt\", \"w\") as file:\n",
    "        file.write(f\"Query: {query}\\n\\n\")\n",
    "        file.write(f\"Answer: {result}\\n\")\n",
    "    # Save all objects using a serializer (pickle)\n",
    "    with open(save_dir+f\"{save_filename}.pkl\", \"wb\") as file:\n",
    "        pickle.dump(result, file)\n",
    "    print(\"Answer generated. Results saved.\")\n",
    "\n",
    "# Create the UI widgets\n",
    "query_input = widgets.Text(description=\"Query:\")\n",
    "search_backend_dropdown = widgets.Dropdown(options=list(search_functions.keys()), description=\"Search Backend:\")\n",
    "answer_backend_dropdown = widgets.Dropdown(options=list(answer_functions.keys()), description=\"Answer Backend:\")\n",
    "search_button = widgets.Button(description=\"Search\")\n",
    "answer_button = widgets.Button(description=\"Answer\")\n",
    "\n",
    "# Attach click event handlers to the buttons\n",
    "search_button.on_click(on_search_button_clicked)\n",
    "answer_button.on_click(on_answer_button_clicked)\n"
   ]
  },
  {
   "cell_type": "markdown",
   "metadata": {},
   "source": [
    "## Let's go"
   ]
  },
  {
   "cell_type": "code",
   "execution_count": 24,
   "metadata": {},
   "outputs": [
    {
     "data": {
      "application/vnd.jupyter.widget-view+json": {
       "model_id": "0320f17ad2de46f9ae8a499fdf7fb492",
       "version_major": 2,
       "version_minor": 0
      },
      "text/plain": [
       "Text(value='who won the case', description='Query:')"
      ]
     },
     "metadata": {},
     "output_type": "display_data"
    },
    {
     "data": {
      "application/vnd.jupyter.widget-view+json": {
       "model_id": "861402330273455d8d340a91d3c7cac4",
       "version_major": 2,
       "version_minor": 0
      },
      "text/plain": [
       "Dropdown(description='Search Backend:', index=1, options=('N_gram', 'VDB'), value='VDB')"
      ]
     },
     "metadata": {},
     "output_type": "display_data"
    },
    {
     "data": {
      "application/vnd.jupyter.widget-view+json": {
       "model_id": "adb08876b2e34abf8a0d2a043d40c4a6",
       "version_major": 2,
       "version_minor": 0
      },
      "text/plain": [
       "Dropdown(description='Answer Backend:', options=('RAG', 'Search-neighboring_agent'), value='RAG')"
      ]
     },
     "metadata": {},
     "output_type": "display_data"
    },
    {
     "data": {
      "application/vnd.jupyter.widget-view+json": {
       "model_id": "f40eca12ee124a4dbe347a55599bf990",
       "version_major": 2,
       "version_minor": 0
      },
      "text/plain": [
       "Button(description='Search', style=ButtonStyle())"
      ]
     },
     "metadata": {},
     "output_type": "display_data"
    },
    {
     "data": {
      "application/vnd.jupyter.widget-view+json": {
       "model_id": "7e70e15a14214117895f981afff77ea6",
       "version_major": 2,
       "version_minor": 0
      },
      "text/plain": [
       "Button(description='Answer', style=ButtonStyle())"
      ]
     },
     "metadata": {},
     "output_type": "display_data"
    }
   ],
   "source": [
    "\n",
    "# Display the UI widgets\n",
    "display(query_input)\n",
    "display(search_backend_dropdown)\n",
    "display(answer_backend_dropdown)\n",
    "display(search_button)\n",
    "display(answer_button)"
   ]
  }
 ],
 "metadata": {
  "kernelspec": {
   "display_name": "llm",
   "language": "python",
   "name": "python3"
  },
  "language_info": {
   "codemirror_mode": {
    "name": "ipython",
    "version": 3
   },
   "file_extension": ".py",
   "mimetype": "text/x-python",
   "name": "python",
   "nbconvert_exporter": "python",
   "pygments_lexer": "ipython3",
   "version": "3.10.0"
  }
 },
 "nbformat": 4,
 "nbformat_minor": 2
}
